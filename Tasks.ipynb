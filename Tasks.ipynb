{
 "cells": [
  {
   "cell_type": "markdown",
   "metadata": {},
   "source": [
    "**Factorial of a number**"
   ]
  },
  {
   "cell_type": "code",
   "execution_count": 1,
   "metadata": {},
   "outputs": [
    {
     "name": "stdout",
     "output_type": "stream",
     "text": [
      "10\n",
      "3628800\n"
     ]
    }
   ],
   "source": [
    "a=int(input())\n",
    "mul=1\n",
    "for i in range(1,(a+1)):\n",
    "    mul=i*mul\n",
    "print(mul)"
   ]
  },
  {
   "cell_type": "markdown",
   "metadata": {},
   "source": [
    "**Prime Numbers up to N**"
   ]
  },
  {
   "cell_type": "code",
   "execution_count": 16,
   "metadata": {},
   "outputs": [
    {
     "name": "stdout",
     "output_type": "stream",
     "text": [
      "15\n",
      "2\n",
      "3\n",
      "5\n",
      "7\n",
      "11\n",
      "13\n"
     ]
    }
   ],
   "source": [
    "n=int(input())\n",
    "for i in range(1,n+1):\n",
    "    if i>1:\n",
    "        for j in range(2,i):\n",
    "            if(i%j)==0:\n",
    "                break\n",
    "        else:\n",
    "            print(i)"
   ]
  },
  {
   "cell_type": "markdown",
   "metadata": {},
   "source": [
    "**check if the number exist in a given range(input:number(n),range(lower number and upper n umber)**"
   ]
  },
  {
   "cell_type": "code",
   "execution_count": 4,
   "metadata": {},
   "outputs": [
    {
     "name": "stdout",
     "output_type": "stream",
     "text": [
      "10\n",
      "20\n",
      "89\n",
      "No not in range\n"
     ]
    }
   ],
   "source": [
    "l=int(input())\n",
    "h=int(input())\n",
    "n=int(input())\n",
    "if(n in range(l,h+1)):\n",
    "    print(\"Yes in range\")\n",
    "else:\n",
    "    print(\"No not in range\")"
   ]
  },
  {
   "cell_type": "markdown",
   "metadata": {},
   "source": [
    "**Check the number of digits in a given number**"
   ]
  },
  {
   "cell_type": "code",
   "execution_count": 5,
   "metadata": {},
   "outputs": [
    {
     "name": "stdout",
     "output_type": "stream",
     "text": [
      "123456002589\n",
      "12\n"
     ]
    }
   ],
   "source": [
    "num=input()\n",
    "print(len(num))"
   ]
  },
  {
   "cell_type": "markdown",
   "metadata": {},
   "source": [
    "**check if the give number is a factor of 1000**"
   ]
  },
  {
   "cell_type": "code",
   "execution_count": 6,
   "metadata": {},
   "outputs": [
    {
     "name": "stdout",
     "output_type": "stream",
     "text": [
      "300\n",
      "300 is not factor\n"
     ]
    }
   ],
   "source": [
    "n=int(input())\n",
    "if 1000%n ==0:\n",
    "    print(n,\"is factor\")\n",
    "else:\n",
    "    print(n,\"is not factor\")"
   ]
  },
  {
   "cell_type": "markdown",
   "metadata": {},
   "source": [
    "***27-08-2019***"
   ]
  },
  {
   "cell_type": "markdown",
   "metadata": {},
   "source": [
    "**Calculate the square root og given number**"
   ]
  },
  {
   "cell_type": "code",
   "execution_count": 12,
   "metadata": {},
   "outputs": [
    {
     "name": "stdout",
     "output_type": "stream",
     "text": [
      "456\n",
      "Square root of given number without using inbuilt function: 21.354156504062622\n",
      "Square root of given number using inbuit function: 21.354156504062622\n"
     ]
    }
   ],
   "source": [
    "import math\n",
    "a=int(input())\n",
    "print(\"Square root of given number without using inbuilt function:\",a**(0.5))\n",
    "print(\"Square root of given number using inbuit function:\",math.sqrt(a))"
   ]
  },
  {
   "cell_type": "markdown",
   "metadata": {},
   "source": [
    "**print count of numbers and average of the given numbers taken by the user in a single line**"
   ]
  },
  {
   "cell_type": "code",
   "execution_count": 13,
   "metadata": {},
   "outputs": [
    {
     "name": "stdout",
     "output_type": "stream",
     "text": [
      "10 20 30\n",
      "3\n",
      "Sum: 60\n",
      "Number of number: 3\n",
      "Average: 20.0\n"
     ]
    }
   ],
   "source": [
    "a=input().split()\n",
    "sum=0\n",
    "count=0\n",
    "print(len(a))\n",
    "for i in a:\n",
    "    sum=sum+int(i)\n",
    "    count+=1\n",
    "print(\"Sum:\",sum)\n",
    "print(\"Number of number:\",count)\n",
    "print(\"Average:\",(sum/count))"
   ]
  },
  {
   "cell_type": "markdown",
   "metadata": {},
   "source": [
    "**String Palindrome**"
   ]
  },
  {
   "cell_type": "code",
   "execution_count": 15,
   "metadata": {},
   "outputs": [
    {
     "name": "stdout",
     "output_type": "stream",
     "text": [
      "mam\n",
      "yes\n"
     ]
    }
   ],
   "source": [
    "a=input()\n",
    "b=a[::-1]\n",
    "if(a==b):\n",
    "    print(\"yes\")\n",
    "else:\n",
    "    print(\"No\")"
   ]
  },
  {
   "cell_type": "markdown",
   "metadata": {},
   "source": [
    "**Count Division: You have been given 3 integers-l,r and k. Find how many numbers between l and r are divisible by k**"
   ]
  },
  {
   "cell_type": "code",
   "execution_count": 18,
   "metadata": {},
   "outputs": [
    {
     "name": "stdout",
     "output_type": "stream",
     "text": [
      "10\n",
      "20\n",
      "11\n",
      "11\n"
     ]
    }
   ],
   "source": [
    "l=int(input())\n",
    "r=int(input())\n",
    "k=int(input())\n",
    "for i in range(l,r+1):\n",
    "    if i%k==0:\n",
    "        print(i)\n"
   ]
  },
  {
   "cell_type": "markdown",
   "metadata": {},
   "source": [
    "**ISBN: The book has a special ISBN(International Standard Book Number) which is  unique numeric book identifier only for Voldemort's book printed on it. The ISBN is based upon a 10-digit code. The ISBN is valid if:\n",
    "1xdigit1 + 2xdigit2 + 3xdigit3 + 4xdigit4 + 5xdigit5 + 6xdigit6 + 7xdigit7 + 8xdigit8 + 9xdigit9 + 10xdigit10 is divisible by 11.**"
   ]
  },
  {
   "cell_type": "code",
   "execution_count": 2,
   "metadata": {},
   "outputs": [
    {
     "name": "stdout",
     "output_type": "stream",
     "text": [
      "1401601499\n",
      "253\n",
      "Valid\n"
     ]
    }
   ],
   "source": [
    "a=int(input())\n",
    "#1401601499,102356412345\n",
    "sum=0\n",
    "i=10\n",
    "while a:\n",
    "    sum=sum+(a%10)*i\n",
    "    a=a//10\n",
    "    i-=1\n",
    "print(sum)\n",
    "if(sum%11==0):\n",
    "    print(\"Valid\")\n",
    "else:\n",
    "    print(\"Not Valid\")\n"
   ]
  },
  {
   "cell_type": "markdown",
   "metadata": {},
   "source": [
    "**Toggle String**"
   ]
  },
  {
   "cell_type": "code",
   "execution_count": 4,
   "metadata": {},
   "outputs": [
    {
     "name": "stdout",
     "output_type": "stream",
     "text": [
      "PooJaHoneyTumu123\n",
      "PooJaHoneyTumu123\n",
      "Toggle String: pOOjAhONEYtUMU123\n"
     ]
    }
   ],
   "source": [
    "s=input()\n",
    "print(s)\n",
    "print(\"Toggle String:\",s.swapcase())"
   ]
  },
  {
   "cell_type": "markdown",
   "metadata": {},
   "source": [
    "**Identical Strings**"
   ]
  },
  {
   "cell_type": "code",
   "execution_count": 7,
   "metadata": {},
   "outputs": [
    {
     "name": "stdout",
     "output_type": "stream",
     "text": [
      "pooja\n",
      "pooja\n",
      "Identical\n"
     ]
    }
   ],
   "source": [
    "a=input()\n",
    "b=input()\n",
    "if a==b:\n",
    "    print(\"Identical\")\n",
    "else:\n",
    "    print(\"Not Identical\")"
   ]
  },
  {
   "cell_type": "markdown",
   "metadata": {},
   "source": [
    "**Char Sum: here first character a has weight 1 and the second charecter b has 2 and third character again has wight of 1. So the summation here is equal to :(aba)1+2+1=4(strings)**"
   ]
  },
  {
   "cell_type": "code",
   "execution_count": 15,
   "metadata": {},
   "outputs": [
    {
     "name": "stdout",
     "output_type": "stream",
     "text": [
      "pooja\n",
      "57\n"
     ]
    }
   ],
   "source": [
    "a=input()\n",
    "sum=0\n",
    "n=len(a)\n",
    "for i in range(n):\n",
    "    v=ord(a[i])-ord('a')+1\n",
    "    sum=sum+v\n",
    "print(sum)"
   ]
  },
  {
   "cell_type": "markdown",
   "metadata": {},
   "source": [
    "**E-Maze in:x and y axises need to take input like LLRDDR(strings)**"
   ]
  },
  {
   "cell_type": "code",
   "execution_count": 23,
   "metadata": {},
   "outputs": [
    {
     "name": "stdout",
     "output_type": "stream",
     "text": [
      "Enter input like LLRDDR:LLRDDR\n",
      "-1 0\n",
      "-2 0\n",
      "-1 0\n",
      "-1 -1\n",
      "-1 -2\n",
      "0 -2\n"
     ]
    }
   ],
   "source": [
    "a=input(\"Enter input like LLRDDR:\")\n",
    "x,y=0,0\n",
    "for i in a:\n",
    "    if(i=='L'):\n",
    "        x-=1\n",
    "        y=y\n",
    "    elif(i=='R'):\n",
    "        x+=1\n",
    "        y=y\n",
    "    elif(i=='D'):\n",
    "        x=x\n",
    "        y-=1\n",
    "    elif(i=='U'):\n",
    "        x=x\n",
    "        y+=1\n",
    "    print(x,y)"
   ]
  },
  {
   "cell_type": "markdown",
   "metadata": {},
   "source": [
    "**Given String:\"Problem Solving Using Python\"\n",
    "1.Find length of string\n",
    "2.Change the string to lowercase\n",
    "3.Print the string in reverse order\n",
    "4.Find how many times\"s\" is repeated in agiven string**"
   ]
  },
  {
   "cell_type": "code",
   "execution_count": 27,
   "metadata": {},
   "outputs": [
    {
     "name": "stdout",
     "output_type": "stream",
     "text": [
      "Length of given string: 28\n",
      "Lower case: problem solving using python\n",
      "Reverse Order: nohtyP gnisU gnivloS melborP\n",
      "Number of times s repeated: 1\n"
     ]
    }
   ],
   "source": [
    "a=\"Problem Solving Using Python\"\n",
    "print(\"Length of given string:\",len(a))\n",
    "print(\"Lower case:\",a.lower())\n",
    "print(\"Reverse Order:\",a[::-1])\n",
    "print(\"Number of times s repeated:\",a.count(\"s\"))"
   ]
  },
  {
   "cell_type": "code",
   "execution_count": 1,
   "metadata": {},
   "outputs": [
    {
     "ename": "SyntaxError",
     "evalue": "invalid syntax (<ipython-input-1-ec107ea30239>, line 1)",
     "output_type": "error",
     "traceback": [
      "\u001b[1;36m  File \u001b[1;32m\"<ipython-input-1-ec107ea30239>\"\u001b[1;36m, line \u001b[1;32m1\u001b[0m\n\u001b[1;33m    **Given string:**\u001b[0m\n\u001b[1;37m     ^\u001b[0m\n\u001b[1;31mSyntaxError\u001b[0m\u001b[1;31m:\u001b[0m invalid syntax\n"
     ]
    }
   ],
   "source": [
    "**Given string:**"
   ]
  },
  {
   "cell_type": "markdown",
   "metadata": {},
   "source": [
    "28/08/2019"
   ]
  },
  {
   "cell_type": "code",
   "execution_count": 7,
   "metadata": {},
   "outputs": [
    {
     "name": "stdout",
     "output_type": "stream",
     "text": [
      "enter the integer2 * 4\n",
      "['2', '*', '4']\n",
      "8\n"
     ]
    }
   ],
   "source": [
    "num=(input(\"enter the integer\"))\n",
    "num=num.split()\n",
    "print(num)\n",
    "if num[1]=='+':\n",
    "    print(int(num[0])+int(num[2]))\n",
    "elif num[1]=='-':\n",
    "    print(int(num[0])-int(num[2]))\n",
    "elif num[1]=='*':\n",
    "    print(int(num[0])*int(num[2]))\n",
    "elif num[1]=='/':\n",
    "    print(int(num[0])//int(num[2]))\n",
    "elif num[1]=='%':\n",
    "    print(int(num[0])%int(num[2]))\n",
    "\n",
    "    "
   ]
  },
  {
   "cell_type": "markdown",
   "metadata": {},
   "source": [
    "**life**"
   ]
  },
  {
   "cell_type": "code",
   "execution_count": 11,
   "metadata": {},
   "outputs": [
    {
     "name": "stdout",
     "output_type": "stream",
     "text": [
      "input:1\n",
      "1\n",
      "input:4\n",
      "4\n",
      "input:5\n",
      "5\n",
      "input:42\n",
      "42\n"
     ]
    }
   ],
   "source": [
    "a=0\n",
    "while(a!=42 and a<=99):\n",
    "    a=int(input(\"input:\"))\n",
    "    print(a)"
   ]
  },
  {
   "cell_type": "markdown",
   "metadata": {},
   "source": [
    "**Profile upload**"
   ]
  },
  {
   "cell_type": "code",
   "execution_count": 3,
   "metadata": {},
   "outputs": [
    {
     "name": "stdout",
     "output_type": "stream",
     "text": [
      "1140 235\n",
      "Upload another..\n"
     ]
    }
   ],
   "source": [
    "width_height=int(160)\n",
    "a=input().split()\n",
    "if(len(a)==2):\n",
    "    if(len(a[0])<=3 and len(a[1])<=3):\n",
    "        if((int(a[0])>width_height) and (int(a[1])>width_height)):\n",
    "            print(\"Crop..\")\n",
    "        elif((int(a[0])==width_height) and (int(a[1])==width_height)):\n",
    "            print(\"Accept..\")\n",
    "        elif(((int(a[0])==width_height) and (int(a[1])>width_height)) or ((int(a[0])<width_height) and (int(a[1])==width_height))):\n",
    "            print(\"Upload another..\")\n",
    "        elif((int(a[0])<width_height) and (int(a[1])<width_height)):\n",
    "            print(\"Upload another..\")\n",
    "    else:\n",
    "          print(\"Upload another..\")\n",
    "else:\n",
    "          print(\"Upload another..\")"
   ]
  },
  {
   "cell_type": "markdown",
   "metadata": {},
   "source": [
    "30-08-2019"
   ]
  },
  {
   "cell_type": "markdown",
   "metadata": {},
   "source": [
    "**Factorial of a given number using functions**"
   ]
  },
  {
   "cell_type": "code",
   "execution_count": 1,
   "metadata": {},
   "outputs": [
    {
     "name": "stdout",
     "output_type": "stream",
     "text": [
      "5\n"
     ]
    },
    {
     "data": {
      "text/plain": [
       "120"
      ]
     },
     "execution_count": 1,
     "metadata": {},
     "output_type": "execute_result"
    }
   ],
   "source": [
    "def fact(n):\n",
    "    f=s=1\n",
    "    for i in range(1,n+1):\n",
    "        f1=f*i\n",
    "        s=s*f1\n",
    "    return s\n",
    "a=int(input())\n",
    "fact(a)"
   ]
  },
  {
   "cell_type": "markdown",
   "metadata": {},
   "source": [
    "**Function to print all number divisible by 6 and not a factor of 100 in a given range(l,U) both inclusive**"
   ]
  },
  {
   "cell_type": "code",
   "execution_count": 2,
   "metadata": {},
   "outputs": [
    {
     "name": "stdout",
     "output_type": "stream",
     "text": [
      "10\n",
      "20\n",
      "12\n",
      "18\n"
     ]
    }
   ],
   "source": [
    "def function(l,u):\n",
    "    for i in range(l,u+1):\n",
    "        if(i%6==0 and 100%i!=0):\n",
    "            print(i)\n",
    "a=int(input())\n",
    "b=int(input())\n",
    "function(a,b)"
   ]
  },
  {
   "cell_type": "markdown",
   "metadata": {},
   "source": [
    "**Function to find the average of cubes of all the even numbers in a given range (l,u)inclusive**"
   ]
  },
  {
   "cell_type": "code",
   "execution_count": 4,
   "metadata": {},
   "outputs": [
    {
     "name": "stdout",
     "output_type": "stream",
     "text": [
      "1\n",
      "10\n"
     ]
    },
    {
     "data": {
      "text/plain": [
       "360"
      ]
     },
     "execution_count": 4,
     "metadata": {},
     "output_type": "execute_result"
    }
   ],
   "source": [
    "def function(l,u):\n",
    "    s=c=0\n",
    "    for i in range(l,u+1):\n",
    "        if(i%2==0):\n",
    "            e=i**3\n",
    "            s=s+e\n",
    "            c=c+1\n",
    "    return s//c\n",
    "a=int(input())\n",
    "b=int(input())\n",
    "function(a,b)"
   ]
  },
  {
   "cell_type": "markdown",
   "metadata": {},
   "source": [
    "**Function to generate a factor for a given number**"
   ]
  },
  {
   "cell_type": "code",
   "execution_count": 5,
   "metadata": {},
   "outputs": [
    {
     "name": "stdout",
     "output_type": "stream",
     "text": [
      "10\n",
      "1\n",
      "2\n",
      "5\n",
      "10\n"
     ]
    }
   ],
   "source": [
    "def number(n):\n",
    "    for i in range(1,n+1):\n",
    "        if(n%i==0):\n",
    "            print(i)\n",
    "n=int(input())\n",
    "number(n)"
   ]
  },
  {
   "cell_type": "markdown",
   "metadata": {},
   "source": [
    "**Function to check a number is prime**"
   ]
  },
  {
   "cell_type": "code",
   "execution_count": 6,
   "metadata": {},
   "outputs": [
    {
     "name": "stdout",
     "output_type": "stream",
     "text": [
      "15\n",
      "Not prime\n"
     ]
    }
   ],
   "source": [
    "def prime(n):\n",
    "    c=0\n",
    "    for i in range(1,n+1):\n",
    "        if(n%i==0):\n",
    "            c+=1\n",
    "    if(c==2):\n",
    "        print(\"Prime\")\n",
    "    else:\n",
    "        print(\"Not prime\")\n",
    "n=int(input())\n",
    "prime(n)"
   ]
  },
  {
   "cell_type": "markdown",
   "metadata": {},
   "source": [
    "**Function to calculate the average  of first N Prime Numbers**"
   ]
  },
  {
   "cell_type": "code",
   "execution_count": 19,
   "metadata": {},
   "outputs": [],
   "source": [
    "def prime(u):\n",
    "    c=0\n",
    "    for i in range(1,u+1):\n",
    "        if(u%i==0):\n",
    "            c+=1\n",
    "    if(c==2):\n",
    "        return True"
   ]
  },
  {
   "cell_type": "code",
   "execution_count": 20,
   "metadata": {},
   "outputs": [
    {
     "name": "stdout",
     "output_type": "stream",
     "text": [
      "10\n",
      "2\n",
      "3\n",
      "5\n",
      "7\n",
      "4  Average of N primes..\n"
     ]
    }
   ],
   "source": [
    "n=int(input())\n",
    "c=0\n",
    "s=0\n",
    "for i in range(1,n+1):\n",
    "    if(prime(i)):\n",
    "        print(i)\n",
    "        s+=i\n",
    "        c+=1\n",
    "print(s//c,\" Average of N primes..\")"
   ]
  },
  {
   "cell_type": "markdown",
   "metadata": {},
   "source": [
    "**Function to print all perfect numbers in a given range**"
   ]
  },
  {
   "cell_type": "code",
   "execution_count": 21,
   "metadata": {},
   "outputs": [
    {
     "name": "stdout",
     "output_type": "stream",
     "text": [
      "1\n",
      "10\n",
      "6\n"
     ]
    }
   ],
   "source": [
    "def perfect(a,b):\n",
    "    for i in range(a,b+1):\n",
    "        s=0\n",
    "        for j in range(1,i):\n",
    "            if(i%j==0):\n",
    "                s=s+j\n",
    "        if(s==i):\n",
    "            print(i)\n",
    "a=int(input())\n",
    "b=int(input())\n",
    "perfect(a,b)"
   ]
  },
  {
   "cell_type": "code",
   "execution_count": null,
   "metadata": {},
   "outputs": [],
   "source": [
    "'''\n",
    "# Sample code to perform I/O:\n",
    "name = input()                  # Reading input from STDIN\n",
    "print('Hi, %s.' % name)         # Writing output to STDOUT\n",
    "# Warning: Printing unwanted or ill-formatted data to output will cause the test cases to fail\n",
    "'''\n"
   ]
  },
  {
   "cell_type": "code",
   "execution_count": 25,
   "metadata": {},
   "outputs": [
    {
     "name": "stdout",
     "output_type": "stream",
     "text": [
      "poojahoney\n",
      "hi, poojahoney\n"
     ]
    }
   ],
   "source": [
    "a=input()\n",
    "print(\"hi,\",a)"
   ]
  },
  {
   "cell_type": "code",
   "execution_count": null,
   "metadata": {},
   "outputs": [],
   "source": []
  },
  {
   "cell_type": "code",
   "execution_count": null,
   "metadata": {},
   "outputs": [],
   "source": [
    "num=int(input())\n",
    "s=1\n",
    "n1=(input())\n",
    "n2=n1.split()\n",
    "print(n2)\n",
    "for i in range(0,len(n2)):\n",
    "    print(int(n2[i]))\n",
    "    s=s*p\n",
    "print(s)\n",
    "5\n",
    "1 2 3 4 5\n",
    "['1', '2', '3', '4', '5']\n",
    "1\n",
    "2\n",
    "3\n",
    "4\n",
    "5\n",
    "3125\n",
    "In [52]:\n",
    "###3 september\n",
    "###print highest marks of the student\n",
    "students=[[\"jyo\",10,20,30],[\"jyosh\",30,40,60],[\"hritika\",30,40,60]]\n",
    "high=0\n",
    "for i in students:\n",
    "    name=i[0]\n",
    "    marks=i[1]+i[2]+i[3]\n",
    "    if high<marks:\n",
    "        high=marks\n",
    "for i in students:\n",
    "    name=i[0]\n",
    "    marks=i[1]+i[2]+i[3]\n",
    "    if high==marks:\n",
    "        print(name)\n",
    "jyosh\n",
    "hritika\n",
    "In [49]:\n",
    "####sorting should be done on list second element\n",
    "students=[[1,30,40],[3,40,100],[2,50,10]]\n",
    "students[0][2],students[0][0]=students[0][0],students[0][2]\n",
    "students[1][2],students[1][0]=students[1][0],students[1][2]\n",
    "students[2][2],students[2][0]=students[2][0],students[2][2]\n",
    "students.sort()\n",
    "students[0][0],students[0][2]=students[0][2],students[0][0]\n",
    "students[1][0],students[1][2]=students[1][2],students[1][0]\n",
    "students[2][0],students[2][2]=students[2][2],students[2][0]\n",
    "print(students)\n",
    "[[2, 50, 10], [1, 30, 40], [3, 40, 100]]\n",
    "In [2]:\n",
    "###find the number of characters(a-z and A-Z)\n",
    "###find the number of numbers in the given string\n",
    "count=count1=0\n",
    "data=\"Jyothsna 123 Hritika\"\n",
    "for i in data:\n",
    "    if(\"A\"<=i<=\"Z\" or \"a\"<=i<=\"z\"):\n",
    "        count=count+1\n",
    "    elif(\"0\"<=i<\"9\"):\n",
    "        count1=count1+1\n",
    "print(count)\n",
    "print(count1)\n",
    "15\n",
    "3\n",
    "In [3]:\n",
    "###sum of digits\n",
    "def sum_digit(data):\n",
    "    r=c=0\n",
    "    for i in data:\n",
    "        if i.isdigit():\n",
    "            r=r+int(i)\n",
    "    return r\n",
    "In [4]:\n",
    "sum_digit(data)\n",
    "Out[4]:\n",
    "6\n",
    "In [13]:\n",
    "###average of numbers in a string\n",
    "c=0\n",
    "for i in data:\n",
    "    if i.isdigit():\n",
    "        c=c+1\n",
    "        \n",
    "a=sum_digit(data)\n",
    "print(a/c)\n",
    "2.0\n",
    "In [61]:\n",
    "####lucky number\n",
    "data=\"123456\"\n",
    "while True:\n",
    "    r=str(sum_digit(data))\n",
    "    if(len(r)>1):\n",
    "        data=r\n",
    "    else:\n",
    "        break\n",
    "print(r)\n",
    "3\n",
    "In [62]:\n",
    "data=\"jyosh1234\"\n",
    "r={}\n",
    "for c in data:\n",
    "    if c.isalpha():\n",
    "        r['alpha']=r.get('alpha',0)+1\n",
    "    if c.isdigit():\n",
    "        r['digits']=r.get('digits',0)+1\n",
    "print(r)\n",
    "{'alpha': 5, 'digits': 4}\n",
    "In [27]:\n",
    "###find frequency of characters\n",
    "name=\"Jyothsna hritika\"\n",
    "frequency={}\n",
    "for i in name:\n",
    "    for j in i:\n",
    "        if(i==j):\n",
    "            frequency[i]=frequency.get(i,0)+1\n",
    "            \n",
    "print(frequency)\n",
    "{'J': 1, 'y': 1, 'o': 1, 't': 2, 'h': 2, 's': 1, 'n': 1, 'a': 2, ' ': 1, 'r': 1, 'i': 2, 'k': 1}\n",
    "In [54]:\n",
    "####find frequency of urls\n",
    "urls={'www.google.com','www.gmail.com','www.yahoo.com','www.google.com'}\n",
    "frequency={}\n",
    "for i in urls:\n",
    "    for j in urls:\n",
    "        if(i==j):\n",
    "            frequency[i]=frequency.get(i,0)+1\n",
    "print(frequency)\n",
    "{'www.gmail.com': 1, 'www.yahoo.com': 1, 'www.google.com': 1}\n",
    "In [3]:\n",
    "####4september\n",
    "####develop pattern for company name endswith 'e' and must have 5 characters\n",
    "import re\n",
    "companies=['google','apple','microsoft','tcs']\n",
    "for i in companies:\n",
    "    if(re.search('^....e$',i)):\n",
    "        print(i)\n",
    "apple\n",
    "In [29]:\n",
    "##### print only characters in the message\n",
    "message=\"\"\" iam from &&vijayawada$my my mobile number is  9866131508 we stay here from last 3 days\"\"\"\n",
    "for i in message:\n",
    "    if(re.findall('[a-zA-Z]+',i)):\n",
    "        print(i, end=\" \")\n",
    "i a m f r o m v i j a y a w a d a m y m y m o b i l e n u m b e r i s w e s t a y h e r e f r o m l a s t d a y s \n",
    "In [28]:\n",
    "re.findall('[a-zA-Z]+',message)\n",
    "Out[28]:\n",
    "['iam',\n",
    " 'from',\n",
    " 'vijayawada',\n",
    " 'my',\n",
    " 'my',\n",
    " 'mobile',\n",
    " 'number',\n",
    " 'is',\n",
    " 'we',\n",
    " 'stay',\n",
    " 'here',\n",
    " 'from',\n",
    " 'last',\n",
    " 'days']\n",
    "In [30]:\n",
    "data=\"jyo 123 jyo 456\"\n",
    "re.findall('\\d+',data)\n",
    "Out[30]:\n",
    "['123', '456']\n",
    "In [31]:\n",
    "####pattern for email id\n",
    "In [11]:\n",
    "###create a function to check the given data is valid or not for given pattern\n",
    "def mobile(num):\n",
    "    if(re.search('^[6-9]\\d{9}$',num)):\n",
    "        print(\"valid\")\n",
    "    else:\n",
    "        print(\"invalid\")\n",
    "num=(input())        \n",
    "mobile(num)\n",
    "6549873210\n",
    "valid\n",
    "In [5]:\n",
    "####create a person name validator \n",
    "###(M.jyothsna,jyothsna.M,jyothsna manne,manne jyothsna,jyothsna)\n",
    "import re\n",
    "def person(name):\n",
    "    if(re.search('^[a-zA-Z]+[ .]{0,1}[a-zA-z]+[ ]*[a-zA-z]+$',name)):\n",
    "            print(\"valid\")\n",
    "    else:\n",
    "        print(\"invalid\")\n",
    "name=input()\n",
    "person(name)\n",
    "jyothsna.m\n",
    "invalid\n",
    "In [44]:\n",
    "###create function to check given data valid or not for given pattern\n",
    "def validate(pattern,data):\n",
    "    if(pattern==('^[a-zA-Z]$')):\n",
    "        re.search(pattern,data)\n",
    "    else:\n",
    "        return False"
   ]
  },
  {
   "cell_type": "code",
   "execution_count": 2,
   "metadata": {},
   "outputs": [
    {
     "data": {
      "text/html": [
       "<div>\n",
       "<style scoped>\n",
       "    .dataframe tbody tr th:only-of-type {\n",
       "        vertical-align: middle;\n",
       "    }\n",
       "\n",
       "    .dataframe tbody tr th {\n",
       "        vertical-align: top;\n",
       "    }\n",
       "\n",
       "    .dataframe thead th {\n",
       "        text-align: right;\n",
       "    }\n",
       "</style>\n",
       "<table border=\"1\" class=\"dataframe\">\n",
       "  <thead>\n",
       "    <tr style=\"text-align: right;\">\n",
       "      <th></th>\n",
       "      <th>GEOID</th>\n",
       "      <th>State</th>\n",
       "      <th>2005</th>\n",
       "      <th>2006</th>\n",
       "      <th>2007</th>\n",
       "      <th>2008</th>\n",
       "      <th>2009</th>\n",
       "      <th>2010</th>\n",
       "      <th>2011</th>\n",
       "      <th>2012</th>\n",
       "      <th>2013</th>\n",
       "    </tr>\n",
       "  </thead>\n",
       "  <tbody>\n",
       "    <tr>\n",
       "      <th>0</th>\n",
       "      <td>04000US01</td>\n",
       "      <td>Alabama</td>\n",
       "      <td>37150</td>\n",
       "      <td>37952</td>\n",
       "      <td>42212</td>\n",
       "      <td>44476</td>\n",
       "      <td>39980</td>\n",
       "      <td>40933</td>\n",
       "      <td>42590</td>\n",
       "      <td>43464</td>\n",
       "      <td>41381</td>\n",
       "    </tr>\n",
       "    <tr>\n",
       "      <th>1</th>\n",
       "      <td>04000US02</td>\n",
       "      <td>Alaska</td>\n",
       "      <td>55891</td>\n",
       "      <td>56418</td>\n",
       "      <td>62993</td>\n",
       "      <td>63989</td>\n",
       "      <td>61604</td>\n",
       "      <td>57848</td>\n",
       "      <td>57431</td>\n",
       "      <td>63648</td>\n",
       "      <td>61137</td>\n",
       "    </tr>\n",
       "    <tr>\n",
       "      <th>2</th>\n",
       "      <td>04000US04</td>\n",
       "      <td>Arizona</td>\n",
       "      <td>45245</td>\n",
       "      <td>46657</td>\n",
       "      <td>47215</td>\n",
       "      <td>46914</td>\n",
       "      <td>45739</td>\n",
       "      <td>46896</td>\n",
       "      <td>48621</td>\n",
       "      <td>47044</td>\n",
       "      <td>50602</td>\n",
       "    </tr>\n",
       "    <tr>\n",
       "      <th>3</th>\n",
       "      <td>04000US05</td>\n",
       "      <td>Arkansas</td>\n",
       "      <td>36658</td>\n",
       "      <td>37057</td>\n",
       "      <td>40795</td>\n",
       "      <td>39586</td>\n",
       "      <td>36538</td>\n",
       "      <td>38587</td>\n",
       "      <td>41302</td>\n",
       "      <td>39018</td>\n",
       "      <td>39919</td>\n",
       "    </tr>\n",
       "    <tr>\n",
       "      <th>4</th>\n",
       "      <td>04000US06</td>\n",
       "      <td>California</td>\n",
       "      <td>51755</td>\n",
       "      <td>55319</td>\n",
       "      <td>55734</td>\n",
       "      <td>57014</td>\n",
       "      <td>56134</td>\n",
       "      <td>54283</td>\n",
       "      <td>53367</td>\n",
       "      <td>57020</td>\n",
       "      <td>57528</td>\n",
       "    </tr>\n",
       "  </tbody>\n",
       "</table>\n",
       "</div>"
      ],
      "text/plain": [
       "       GEOID       State   2005   2006   2007   2008   2009   2010   2011  \\\n",
       "0  04000US01     Alabama  37150  37952  42212  44476  39980  40933  42590   \n",
       "1  04000US02      Alaska  55891  56418  62993  63989  61604  57848  57431   \n",
       "2  04000US04     Arizona  45245  46657  47215  46914  45739  46896  48621   \n",
       "3  04000US05    Arkansas  36658  37057  40795  39586  36538  38587  41302   \n",
       "4  04000US06  California  51755  55319  55734  57014  56134  54283  53367   \n",
       "\n",
       "    2012   2013  \n",
       "0  43464  41381  \n",
       "1  63648  61137  \n",
       "2  47044  50602  \n",
       "3  39018  39919  \n",
       "4  57020  57528  "
      ]
     },
     "execution_count": 2,
     "metadata": {},
     "output_type": "execute_result"
    }
   ],
   "source": [
    "### reading the csv files using pandas:\n",
    "import pandas as pd\n",
    "income=pd.read_csv(\"income.csv\")\n",
    "income"
   ]
  },
  {
   "cell_type": "markdown",
   "metadata": {},
   "source": [
    "**Average income of Alaska in all years**"
   ]
  },
  {
   "cell_type": "code",
   "execution_count": 3,
   "metadata": {},
   "outputs": [
    {
     "name": "stdout",
     "output_type": "stream",
     "text": [
      "Average income of Alaska in all years: 60106\n"
     ]
    }
   ],
   "source": [
    "s=c=0\n",
    "for i in range(2,11):\n",
    "    s=s+income.values[1][i]\n",
    "    c+=1\n",
    "print(\"Average income of Alaska in all years:\",(s//c))"
   ]
  },
  {
   "cell_type": "markdown",
   "metadata": {},
   "source": [
    "**Average income of all states in 2012**"
   ]
  },
  {
   "cell_type": "code",
   "execution_count": 4,
   "metadata": {},
   "outputs": [
    {
     "name": "stdout",
     "output_type": "stream",
     "text": [
      "Average income of all states in 2012: 50038\n"
     ]
    }
   ],
   "source": [
    "s=c=0\n",
    "for i in income.values:\n",
    "    s=s+i[9]\n",
    "    c+=1\n",
    "print(\"Average income of all states in 2012:\",(s//c))"
   ]
  },
  {
   "cell_type": "markdown",
   "metadata": {},
   "source": [
    "**Create a function to print all columns in a single line**"
   ]
  },
  {
   "cell_type": "code",
   "execution_count": 5,
   "metadata": {},
   "outputs": [
    {
     "data": {
      "text/plain": [
       "Index(['GEOID', 'State', '2005', '2006', '2007', '2008', '2009', '2010',\n",
       "       '2011', '2012', '2013'],\n",
       "      dtype='object')"
      ]
     },
     "execution_count": 5,
     "metadata": {},
     "output_type": "execute_result"
    }
   ],
   "source": [
    "def fun1():\n",
    "    return income.columns\n",
    "fun1()"
   ]
  },
  {
   "cell_type": "markdown",
   "metadata": {},
   "source": [
    "**Create a function to access a row based on a unique column value**"
   ]
  },
  {
   "cell_type": "code",
   "execution_count": 6,
   "metadata": {},
   "outputs": [
    {
     "data": {
      "text/plain": [
       "array(['04000US06', 'California', 51755, 55319, 55734, 57014, 56134,\n",
       "       54283, 53367, 57020, 57528], dtype=object)"
      ]
     },
     "execution_count": 6,
     "metadata": {},
     "output_type": "execute_result"
    }
   ],
   "source": [
    "def fun2(a):\n",
    "    return income.values[a]\n",
    "fun2(4)"
   ]
  },
  {
   "cell_type": "markdown",
   "metadata": {},
   "source": [
    "**Create a function to find average income of all states from 2005 to 2013**    "
   ]
  },
  {
   "cell_type": "code",
   "execution_count": 7,
   "metadata": {},
   "outputs": [
    {
     "name": "stdout",
     "output_type": "stream",
     "text": [
      "Average income of Alabama is: 41126\n",
      "Average income of Alaska is: 60106\n",
      "Average income of Arizona is: 47214\n",
      "Average income of Arkansas is: 38828\n",
      "Average income of California is: 55350\n",
      "Average income of all states from 2005 to 2013 is: 48524\n"
     ]
    }
   ],
   "source": [
    "def fun3():\n",
    "    a=[]\n",
    "    for i in range(0,5):\n",
    "        s=c=0\n",
    "        for j in range(2,11):\n",
    "            s=s+income.values[i][j]\n",
    "            c=c+1\n",
    "        print(\"Average income of \"+income.values[i][1]+\" is:\",(s//c))\n",
    "        a.append(s//c)\n",
    "    b=len(a)\n",
    "    print(\"Average income of all states from 2005 to 2013 is:\",(sum(a)//b))\n",
    "fun3()"
   ]
  },
  {
   "cell_type": "code",
   "execution_count": 127,
   "metadata": {},
   "outputs": [
    {
     "name": "stdout",
     "output_type": "stream",
     "text": [
      "Average income of Alabama is: 41126\n",
      "Average income of Alaska is: 60106\n",
      "Average income of Arizona is: 47214\n",
      "Average income of Arkansas is: 38828\n",
      "Average income of California is: 55350\n"
     ]
    }
   ],
   "source": [
    "def fun4():\n",
    "    s=0\n",
    "    for i in range(len(income)+1):\n",
    "        if(s<=4):\n",
    "            print(\"Average income of \"+income.values[s][1]+\" is:\",int(income.values[i][2:].mean()))\n",
    "            s=s+1\n",
    "fun4()"
   ]
  },
  {
   "cell_type": "markdown",
   "metadata": {},
   "source": [
    "**Create a function to find the heighest average income in the last three years**"
   ]
  },
  {
   "cell_type": "code",
   "execution_count": 128,
   "metadata": {},
   "outputs": [
    {
     "name": "stdout",
     "output_type": "stream",
     "text": [
      "Highest average income of- 2013 is: 250567\n"
     ]
    }
   ],
   "source": [
    "s1=s2=s3=c=0\n",
    "for i in income.values:\n",
    "    s1=s1+i[8]\n",
    "    s2=s2+i[9]\n",
    "    s3=s3+i[10]\n",
    "    c=c+1\n",
    "if(s1>s2 and s1>s3):\n",
    "    print(\"Highest average income of- \"+income.columns[8]+\" is:\",s1)\n",
    "elif(s2>s1 and s2>s3):\n",
    "    print(\"Highest average income of- \"+income.columns[9]+\" is:\",s2)\n",
    "else:\n",
    "    print(\"Highest average income of- \"+income.columns[10]+\" is:\",s3)\n",
    "    "
   ]
  },
  {
   "cell_type": "markdown",
   "metadata": {},
   "source": [
    "**Create a function to find the lowest average income from 2007 to 2010(inclusive)**"
   ]
  },
  {
   "cell_type": "code",
   "execution_count": 129,
   "metadata": {},
   "outputs": [
    {
     "name": "stdout",
     "output_type": "stream",
     "text": [
      "Lowest average income of- 2010 is: 238547\n"
     ]
    }
   ],
   "source": [
    "def fun5():\n",
    "    s1=s2=s3=s4=c=0\n",
    "    for i in income.values:\n",
    "        s1+=i[4]\n",
    "        s2+=i[5]\n",
    "        s3+=i[6]\n",
    "        s4+=i[7]\n",
    "        c+=1\n",
    "    if(s1<s2 and s1<s3 and s1<s4):\n",
    "         print(\"Lowest average income of- \"+income.columns[4]+\" is:\",s1)\n",
    "    elif(s2<s1 and s2<s3 and s2<s4):\n",
    "         print(\"Lowest average income of- \"+income.columns[5]+\" is:\",s2)\n",
    "    elif(s3<s1 and s3<s2 and s3<s4):\n",
    "         print(\"Lowest average income of- \"+income.columns[6]+\" is:\",s3)\n",
    "    else:\n",
    "         print(\"Lowest average income of- \"+income.columns[7]+\" is:\",s4)\n",
    "fun5()"
   ]
  },
  {
   "cell_type": "markdown",
   "metadata": {},
   "source": [
    "**Print the list of all states in the same line with average income less than Calfornia**"
   ]
  },
  {
   "cell_type": "code",
   "execution_count": 130,
   "metadata": {},
   "outputs": [
    {
     "name": "stdout",
     "output_type": "stream",
     "text": [
      "['Alabama', 'Arizona', 'Arkansas']\n"
     ]
    }
   ],
   "source": [
    "def fun6():\n",
    "    n=[]\n",
    "    m=[]\n",
    "    for i in range(0,5):\n",
    "        s=c=0\n",
    "        for j in range(2,11):\n",
    "            s=s+income.values[i][j]\n",
    "            c+=1\n",
    "        n.append(s//c)\n",
    "    for i in n:\n",
    "        if(i<n[-1]):\n",
    "            m.append(income.values[n.index(i)][1])\n",
    "    print(m)\n",
    "fun6()"
   ]
  },
  {
   "cell_type": "markdown",
   "metadata": {},
   "source": [
    "**Print the names of states based on desending order of their averages**"
   ]
  },
  {
   "cell_type": "code",
   "execution_count": 174,
   "metadata": {},
   "outputs": [],
   "source": [
    "#using dictonaries"
   ]
  },
  {
   "cell_type": "code",
   "execution_count": 175,
   "metadata": {},
   "outputs": [
    {
     "name": "stdout",
     "output_type": "stream",
     "text": [
      "Desecding order of income averages: ['Alaska', 'California', 'Arizona', 'Alabama', 'Arkansas']\n"
     ]
    }
   ],
   "source": [
    "def fun4():\n",
    "    s=0\n",
    "    b=[]\n",
    "    c={}\n",
    "    for i in range(len(income)+1):\n",
    "        if(s<=4):\n",
    "            c[int(income.values[i][2:].mean())]=income.values[s][1]\n",
    "            s+=1\n",
    "    a=sorted(c,reverse=True)\n",
    "    for i in a:\n",
    "        if i in c:\n",
    "            b.append(c.get(i))\n",
    "    print(\"Desecding order of income averages:\",b)\n",
    "fun4()"
   ]
  },
  {
   "cell_type": "markdown",
   "metadata": {},
   "source": [
    "**State the lowest recorded income based from 2005 to 2013**"
   ]
  },
  {
   "cell_type": "code",
   "execution_count": 176,
   "metadata": {},
   "outputs": [
    {
     "data": {
      "text/plain": [
       "36538"
      ]
     },
     "execution_count": 176,
     "metadata": {},
     "output_type": "execute_result"
    }
   ],
   "source": [
    "v=[]\n",
    "for i in range(0,5):\n",
    "    for j in range(2,11):\n",
    "        v.append(income.values[i][j])\n",
    "min(v)"
   ]
  },
  {
   "cell_type": "code",
   "execution_count": 87,
   "metadata": {},
   "outputs": [
    {
     "data": {
      "text/plain": [
       "5"
      ]
     },
     "execution_count": 87,
     "metadata": {},
     "output_type": "execute_result"
    }
   ],
   "source": [
    "len(income)"
   ]
  },
  {
   "cell_type": "code",
   "execution_count": null,
   "metadata": {},
   "outputs": [],
   "source": []
  },
  {
   "cell_type": "code",
   "execution_count": null,
   "metadata": {},
   "outputs": [],
   "source": []
  },
  {
   "cell_type": "code",
   "execution_count": null,
   "metadata": {},
   "outputs": [],
   "source": []
  },
  {
   "cell_type": "code",
   "execution_count": null,
   "metadata": {},
   "outputs": [],
   "source": []
  },
  {
   "cell_type": "code",
   "execution_count": null,
   "metadata": {},
   "outputs": [],
   "source": []
  },
  {
   "cell_type": "code",
   "execution_count": null,
   "metadata": {},
   "outputs": [],
   "source": []
  },
  {
   "cell_type": "code",
   "execution_count": null,
   "metadata": {},
   "outputs": [],
   "source": []
  }
 ],
 "metadata": {
  "kernelspec": {
   "display_name": "Python 3",
   "language": "python",
   "name": "python3"
  },
  "language_info": {
   "codemirror_mode": {
    "name": "ipython",
    "version": 3
   },
   "file_extension": ".py",
   "mimetype": "text/x-python",
   "name": "python",
   "nbconvert_exporter": "python",
   "pygments_lexer": "ipython3",
   "version": "3.7.3"
  }
 },
 "nbformat": 4,
 "nbformat_minor": 2
}
